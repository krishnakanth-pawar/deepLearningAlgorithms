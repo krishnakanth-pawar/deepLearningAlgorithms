{
 "cells": [
  {
   "cell_type": "code",
   "execution_count": null,
   "id": "a7ccae01",
   "metadata": {},
   "outputs": [],
   "source": [
    "import numpy as np\n",
    "import matplotlib.pyplot as plt\n",
    "from sklearn.datasets import make_moons\n",
    "from sklearn.model_selection import train_test_split\n",
    "from sklearn.preprocessing import StandardScaler\n",
    "from sklearn.metrics import accuracy_score\n",
    "\n",
    "np.random.seed(42)\n",
    "X, y = make_moons(n_samples=1000, noise=0.2)\n",
    "X = StandardScaler().fit_transform(X)\n",
    "X_train, X_test, y_train, y_test = train_test_split(X, y, test_size=0.3, random_state=42)\n",
    "\n",
    "def one_hot(y, k=2):\n",
    "    Y = np.zeros((y.shape[0], k))\n",
    "    Y[np.arange(y.shape[0]), y] = 1\n",
    "    return Y\n",
    "Y_train = one_hot(y_train, 2)\n",
    "Y_test = one_hot(y_test, 2)\n"
   ]
  },
  {
   "cell_type": "code",
   "execution_count": 1,
   "id": "b30b9e3d",
   "metadata": {},
   "outputs": [],
   "source": [
    "def sigmoid(z):\n",
    "    return 1/(1+np.exp(-z))\n",
    "def dsigmoid(a):\n",
    "    return a*(1-a)\n",
    "def tanh(z):\n",
    "    return np.tanh(z)\n",
    "def dtanh(a):\n",
    "    return 1-a**2\n",
    "def relu(z):\n",
    "    return np.maximum(0, z)\n",
    "def drelu(z):\n",
    "    return (z>0).astype(float)\n",
    "\n",
    "ACTS = {'sigmoid': (sigmoid, dsigmoid), 'tanh': (tanh, dtanh), 'relu': (relu, drelu)}\n",
    "\n",
    "def softmax(z):\n",
    "    z = z - np.max(z, axis=1, keepdims=True)\n",
    "    exp = np.exp(z)\n",
    "    return exp/np.sum(exp, axis=1, keepdims=True)\n",
    "def cross_entropy(p, Y):\n",
    "    eps=1e-9\n",
    "    return -np.mean(np.sum(Y*np.log(p+eps), axis=1))\n"
   ]
  }
 ],
 "metadata": {
  "kernelspec": {
   "display_name": "Python 3",
   "language": "python",
   "name": "python3"
  },
  "language_info": {
   "codemirror_mode": {
    "name": "ipython",
    "version": 3
   },
   "file_extension": ".py",
   "mimetype": "text/x-python",
   "name": "python",
   "nbconvert_exporter": "python",
   "pygments_lexer": "ipython3",
   "version": "3.13.7"
  }
 },
 "nbformat": 4,
 "nbformat_minor": 5
}
